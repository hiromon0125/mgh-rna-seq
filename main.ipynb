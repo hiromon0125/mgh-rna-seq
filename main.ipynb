{
 "cells": [
  {
   "cell_type": "markdown",
   "id": "73e94f2d-4a79-4797-a53b-36aaf9240f6d",
   "metadata": {},
   "source": [
    "# Main.py\n"
   ]
  },
  {
   "cell_type": "markdown",
   "id": "faf56ddc",
   "metadata": {},
   "source": [
    "Before running this code, you need to create a env file and set the DATA_DIR environment variable.\n",
    "You can do so by running the following command:\n",
    "```\n",
    "echo \"DATA_DIR=/path/to/your/data\" > .env\n",
    "```"
   ]
  },
  {
   "cell_type": "code",
   "execution_count": 1,
   "id": "5c1a8005",
   "metadata": {},
   "outputs": [
    {
     "data": {
      "text/plain": [
       "'/mnt/e/30-1040147467'"
      ]
     },
     "execution_count": 1,
     "metadata": {},
     "output_type": "execute_result"
    }
   ],
   "source": [
    "import os\n",
    "from dotenv import load_dotenv\n",
    "import glob\n",
    "from pathlib import Path\n",
    "import subprocess\n",
    "# Load environment variables from .env file\n",
    "load_dotenv(\".env\")\n",
    "\n",
    "# Get the data directory path\n",
    "os.getenv('DATA_DIR')"
   ]
  },
  {
   "cell_type": "code",
   "execution_count": 2,
   "id": "c1d8e2cf-c2cd-4991-a907-dcea81460833",
   "metadata": {},
   "outputs": [
    {
     "name": "stdout",
     "output_type": "stream",
     "text": [
      "Data directory path: /mnt/e/30-1040147467\n",
      "Directory exists: /mnt/e/30-1040147467\n"
     ]
    }
   ],
   "source": [
    "# Get the data directory path\n",
    "data_dir = os.getenv('DATA_DIR')\n",
    "\n",
    "if not data_dir:\n",
    "    raise ValueError(\"DATA_DIR environment variable is not set in .env file\")\n",
    "\n",
    "# Expand the home directory if present\n",
    "data_dir = os.path.expanduser(data_dir)\n",
    "\n",
    "print(f\"Data directory path: {data_dir}\")\n",
    "\n",
    "# Verify if the directory exists\n",
    "if not os.path.exists(data_dir):\n",
    "    raise FileNotFoundError(f\"Directory not found: {data_dir}\")\n",
    "else:\n",
    "    print(f\"Directory exists: {data_dir}\")"
   ]
  },
  {
   "cell_type": "markdown",
   "id": "ce851b81",
   "metadata": {},
   "source": [
    "The next step is to create the output directories."
   ]
  },
  {
   "cell_type": "code",
   "execution_count": 4,
   "id": "876dd9e4",
   "metadata": {},
   "outputs": [
    {
     "name": "stdout",
     "output_type": "stream",
     "text": [
      "Created directory: /mnt/e/30-1040147467/01_fastqc\n",
      "Created directory: /mnt/e/30-1040147467/02_trimmed\n",
      "Created directory: /mnt/e/30-1040147467/03_star\n",
      "Created directory: /mnt/e/30-1040147467/04_counts\n",
      "\n",
      "Sample information:\n",
      "Sample: 1\n",
      "  R1: 1_R1_001.fastq.gz\n",
      "  R2: 1_R2_001.fastq.gz\n",
      "Sample: 2\n",
      "  R1: 2_R1_001.fastq.gz\n",
      "  R2: 2_R2_001.fastq.gz\n",
      "Sample: 3\n",
      "  R1: 3_R1_001.fastq.gz\n",
      "  R2: 3_R2_001.fastq.gz\n",
      "Sample: 4\n",
      "  R1: 4_R1_001.fastq.gz\n",
      "  R2: 4_R2_001.fastq.gz\n",
      "Sample: 5\n",
      "  R1: 5_R1_001.fastq.gz\n",
      "  R2: 5_R2_001.fastq.gz\n"
     ]
    }
   ],
   "source": [
    "# Create output directories\n",
    "output_dirs = {\n",
    "    'fastqc': os.path.join(data_dir, '01_fastqc'),\n",
    "    'trimmed': os.path.join(data_dir, '02_trimmed'),\n",
    "    'star': os.path.join(data_dir, '03_star'),\n",
    "    'counts': os.path.join(data_dir, '04_counts')\n",
    "}\n",
    "\n",
    "# Create directories if they don't exist\n",
    "for dir_name, dir_path in output_dirs.items():\n",
    "    os.makedirs(dir_path, exist_ok=True)\n",
    "    print(f\"Created directory: {dir_path}\")\n",
    "\n",
    "# Get list of R1 fastq files\n",
    "fastq_dir = os.path.join(data_dir, '00_fastq')\n",
    "r1_files = sorted(glob.glob(os.path.join(fastq_dir, '*_R1_001.fastq.gz')))\n",
    "\n",
    "# Print sample information\n",
    "print(\"\\nSample information:\")\n",
    "for r1_file in r1_files:\n",
    "    sample_name = os.path.basename(r1_file).replace('_R1_001.fastq.gz', '')\n",
    "    r2_file = r1_file.replace('_R1_001.fastq.gz', '_R2_001.fastq.gz')\n",
    "    print(f\"Sample: {sample_name}\")\n",
    "    print(f\"  R1: {os.path.basename(r1_file)}\")\n",
    "    print(f\"  R2: {os.path.basename(r2_file)}\")"
   ]
  },
  {
   "cell_type": "code",
   "execution_count": null,
   "id": "0ad4640d",
   "metadata": {},
   "outputs": [
    {
     "name": "stdout",
     "output_type": "stream",
     "text": [
      "Processing sample 1...\n",
      "Error processing 1\n",
      "Run \"cutadapt --help\" to see command-line options.\n",
      "See https://cutadapt.readthedocs.io/ for full documentation.\n",
      "\n",
      "cutadapt: error: unrecognized arguments: --interleaved-output\n",
      "\n",
      "Processing sample 2...\n",
      "Error processing 2\n",
      "Run \"cutadapt --help\" to see command-line options.\n",
      "See https://cutadapt.readthedocs.io/ for full documentation.\n",
      "\n",
      "cutadapt: error: unrecognized arguments: --interleaved-output\n",
      "\n",
      "Processing sample 3...\n",
      "Error processing 3\n",
      "Run \"cutadapt --help\" to see command-line options.\n",
      "See https://cutadapt.readthedocs.io/ for full documentation.\n",
      "\n",
      "cutadapt: error: unrecognized arguments: --interleaved-output\n",
      "\n",
      "Processing sample 4...\n",
      "Error processing 4\n",
      "Run \"cutadapt --help\" to see command-line options.\n",
      "See https://cutadapt.readthedocs.io/ for full documentation.\n",
      "\n",
      "cutadapt: error: unrecognized arguments: --interleaved-output\n",
      "\n",
      "Processing sample 5...\n",
      "Error processing 5\n",
      "Run \"cutadapt --help\" to see command-line options.\n",
      "See https://cutadapt.readthedocs.io/ for full documentation.\n",
      "\n",
      "cutadapt: error: unrecognized arguments: --interleaved-output\n",
      "\n"
     ]
    }
   ],
   "source": [
    "# Define cutadapt parameters\n",
    "cutadapt_params = [\n",
    "    '--minimum-length', '20',  # Minimum read length after trimming\n",
    "    '--quality-cutoff', '20',  # Quality score cutoff (based on your report's quality metrics)\n",
    "    '--cores', '4',           # Number of CPU cores to use\n",
    "    '--pair-filter=any',      # Remove both reads if either is filtered\n",
    "    '-a', 'AGATCGGAAGAGCACACGTCTGAACTCCAGTCA',  # TruSeq Universal Adapter\n",
    "    '-A', 'AGATCGGAAGAGCGTCGTGTAGGGAAAGAGTGT',  # TruSeq Indexed Adapter\n",
    "    '--trim-n',              # Remove Ns from the ends\n",
    "]\n",
    "\n",
    "# Process each sample\n",
    "for r1_file in r1_files:\n",
    "    sample_name = os.path.basename(r1_file).replace('_R1_001.fastq.gz', '')\n",
    "    r2_file = r1_file.replace('_R1_001.fastq.gz', '_R2_001.fastq.gz')\n",
    "    \n",
    "    # Define output files\n",
    "    out_r1 = os.path.join(output_dirs['trimmed'], f'{sample_name}_R1_trimmed.fastq.gz')\n",
    "    out_r2 = os.path.join(output_dirs['trimmed'], f'{sample_name}_R2_trimmed.fastq.gz')\n",
    "    log_file = os.path.join(output_dirs['trimmed'], f'{sample_name}_cutadapt.log')\n",
    "    \n",
    "    print(f\"Processing sample {sample_name}...\")\n",
    "    \n",
    "    # Run cutadapt\n",
    "    cmd = ['cutadapt'] + cutadapt_params + [\n",
    "        '-o', out_r1,\n",
    "        '-p', out_r2,\n",
    "        r1_file,\n",
    "        r2_file\n",
    "    ]\n",
    "    \n",
    "    # Run the command and capture output\n",
    "    with open(log_file, 'w') as f:\n",
    "        result = subprocess.run(cmd, stdout=subprocess.PIPE, stderr=subprocess.PIPE, text=True)\n",
    "        f.write(result.stdout)\n",
    "        f.write(result.stderr)\n",
    "    \n",
    "    if result.returncode == 0:\n",
    "        print(f\"Successfully processed {sample_name}\")\n",
    "    else:\n",
    "        print(f\"Error processing {sample_name}\")\n",
    "        print(result.stderr)"
   ]
  },
  {
   "cell_type": "markdown",
   "id": "eaf904e1",
   "metadata": {},
   "source": [
    "This code will:\n",
    "- Use cutadapt to trim the reads\n",
    "- Remove Illumina TruSeq adapters\n",
    "- Trim low-quality bases (quality score < 20)\n",
    "- Remove reads shorter than 20bp\n",
    "- Process both R1 and R2 reads together\n",
    "- Save trimmed reads and log files in the 02_trimmed directory"
   ]
  },
  {
   "cell_type": "code",
   "execution_count": 5,
   "id": "875ea07c",
   "metadata": {},
   "outputs": [],
   "source": [
    "# Create genome directory structure\n",
    "genome_dir = os.path.join(data_dir, 'genome')\n",
    "os.makedirs(genome_dir, exist_ok=True)\n",
    "\n",
    "# Define URLs for genome and annotation files\n",
    "genome_url = \"https://ftp.ensembl.org/pub/release-110/fasta/mus_musculus/dna/Mus_musculus.GRCm39.dna.primary_assembly.fa.gz\"\n",
    "gtf_url = \"https://ftp.ensembl.org/pub/release-110/gtf/mus_musculus/Mus_musculus.GRCm39.110.gtf.gz\"\n",
    "\n",
    "# Download and extract genome files\n",
    "genome_file = os.path.join(genome_dir, \"Mus_musculus.GRCm39.dna.primary_assembly.fa\")\n",
    "gtf_file = os.path.join(genome_dir, \"Mus_musculus.GRCm39.110.gtf\")\n",
    "\n",
    "# Download genome if not exists\n",
    "if not os.path.exists(genome_file):\n",
    "    print(\"Downloading genome file...\")\n",
    "    subprocess.run(['curl', '-o', f\"{genome_file}.gz\", genome_url], check=True)\n",
    "    subprocess.run(['gunzip', '-f', f\"{genome_file}.gz\"], check=True)\n",
    "\n",
    "# Download GTF if not exists\n",
    "if not os.path.exists(gtf_file):\n",
    "    print(\"Downloading GTF file...\")\n",
    "    subprocess.run(['curl', '-o', f\"{gtf_file}.gz\", gtf_url], check=True)\n",
    "    subprocess.run(['gunzip', '-f', f\"{gtf_file}.gz\"], check=True)\n"
   ]
  },
  {
   "cell_type": "code",
   "execution_count": 23,
   "id": "ad1464f9",
   "metadata": {},
   "outputs": [
    {
     "name": "stdout",
     "output_type": "stream",
     "text": [
      "Running FastQC on trimmed files...\n",
      "\n",
      "Processing sample 1...\n"
     ]
    },
    {
     "name": "stderr",
     "output_type": "stream",
     "text": [
      "python(62154) MallocStackLogging: can't turn off malloc stack logging because it was not enabled.\n"
     ]
    },
    {
     "name": "stdout",
     "output_type": "stream",
     "text": [
      "application/gzip\n",
      "application/gzip\n"
     ]
    },
    {
     "name": "stderr",
     "output_type": "stream",
     "text": [
      "Started analysis of 1_R1_trimmed.fastq.gz\n",
      "Approx 5% complete for 1_R1_trimmed.fastq.gz\n",
      "Approx 10% complete for 1_R1_trimmed.fastq.gz\n",
      "Approx 15% complete for 1_R1_trimmed.fastq.gz\n",
      "Approx 20% complete for 1_R1_trimmed.fastq.gz\n",
      "Approx 25% complete for 1_R1_trimmed.fastq.gz\n",
      "Approx 30% complete for 1_R1_trimmed.fastq.gz\n",
      "Approx 35% complete for 1_R1_trimmed.fastq.gz\n",
      "Approx 40% complete for 1_R1_trimmed.fastq.gz\n",
      "Approx 45% complete for 1_R1_trimmed.fastq.gz\n",
      "Approx 50% complete for 1_R1_trimmed.fastq.gz\n",
      "Approx 55% complete for 1_R1_trimmed.fastq.gz\n",
      "Approx 60% complete for 1_R1_trimmed.fastq.gz\n",
      "Approx 65% complete for 1_R1_trimmed.fastq.gz\n",
      "Approx 70% complete for 1_R1_trimmed.fastq.gz\n",
      "Approx 75% complete for 1_R1_trimmed.fastq.gz\n",
      "Approx 80% complete for 1_R1_trimmed.fastq.gz\n",
      "Approx 85% complete for 1_R1_trimmed.fastq.gz\n",
      "Approx 90% complete for 1_R1_trimmed.fastq.gz\n",
      "Approx 95% complete for 1_R1_trimmed.fastq.gz\n",
      "Approx 100% complete for 1_R1_trimmed.fastq.gz\n"
     ]
    },
    {
     "name": "stdout",
     "output_type": "stream",
     "text": [
      "Analysis complete for 1_R1_trimmed.fastq.gz\n"
     ]
    },
    {
     "name": "stderr",
     "output_type": "stream",
     "text": [
      "Started analysis of 1_R2_trimmed.fastq.gz\n",
      "Approx 5% complete for 1_R2_trimmed.fastq.gz\n",
      "Approx 10% complete for 1_R2_trimmed.fastq.gz\n",
      "Approx 15% complete for 1_R2_trimmed.fastq.gz\n",
      "Approx 20% complete for 1_R2_trimmed.fastq.gz\n",
      "Approx 25% complete for 1_R2_trimmed.fastq.gz\n",
      "Approx 30% complete for 1_R2_trimmed.fastq.gz\n",
      "Approx 35% complete for 1_R2_trimmed.fastq.gz\n",
      "Approx 40% complete for 1_R2_trimmed.fastq.gz\n",
      "Approx 45% complete for 1_R2_trimmed.fastq.gz\n",
      "Approx 50% complete for 1_R2_trimmed.fastq.gz\n",
      "Approx 55% complete for 1_R2_trimmed.fastq.gz\n",
      "Approx 60% complete for 1_R2_trimmed.fastq.gz\n",
      "Approx 65% complete for 1_R2_trimmed.fastq.gz\n",
      "Approx 70% complete for 1_R2_trimmed.fastq.gz\n",
      "Approx 75% complete for 1_R2_trimmed.fastq.gz\n",
      "Approx 80% complete for 1_R2_trimmed.fastq.gz\n",
      "Approx 85% complete for 1_R2_trimmed.fastq.gz\n",
      "Approx 90% complete for 1_R2_trimmed.fastq.gz\n",
      "Approx 95% complete for 1_R2_trimmed.fastq.gz\n",
      "Approx 100% complete for 1_R2_trimmed.fastq.gz\n"
     ]
    },
    {
     "name": "stdout",
     "output_type": "stream",
     "text": [
      "Analysis complete for 1_R2_trimmed.fastq.gz\n",
      "✓ FastQC report generated for 1\n",
      "\n",
      "Processing sample 2...\n"
     ]
    },
    {
     "name": "stderr",
     "output_type": "stream",
     "text": [
      "python(62290) MallocStackLogging: can't turn off malloc stack logging because it was not enabled.\n"
     ]
    },
    {
     "name": "stdout",
     "output_type": "stream",
     "text": [
      "application/gzip\n",
      "application/gzip\n"
     ]
    },
    {
     "name": "stderr",
     "output_type": "stream",
     "text": [
      "Started analysis of 2_R1_trimmed.fastq.gz\n",
      "Approx 5% complete for 2_R1_trimmed.fastq.gz\n",
      "Approx 10% complete for 2_R1_trimmed.fastq.gz\n",
      "Approx 15% complete for 2_R1_trimmed.fastq.gz\n",
      "Approx 20% complete for 2_R1_trimmed.fastq.gz\n",
      "Approx 25% complete for 2_R1_trimmed.fastq.gz\n",
      "Approx 30% complete for 2_R1_trimmed.fastq.gz\n",
      "Approx 35% complete for 2_R1_trimmed.fastq.gz\n",
      "Approx 40% complete for 2_R1_trimmed.fastq.gz\n",
      "Approx 45% complete for 2_R1_trimmed.fastq.gz\n",
      "Approx 50% complete for 2_R1_trimmed.fastq.gz\n",
      "Approx 55% complete for 2_R1_trimmed.fastq.gz\n",
      "Approx 60% complete for 2_R1_trimmed.fastq.gz\n",
      "Approx 65% complete for 2_R1_trimmed.fastq.gz\n",
      "Approx 70% complete for 2_R1_trimmed.fastq.gz\n",
      "Approx 75% complete for 2_R1_trimmed.fastq.gz\n",
      "Approx 80% complete for 2_R1_trimmed.fastq.gz\n",
      "Approx 85% complete for 2_R1_trimmed.fastq.gz\n",
      "Approx 90% complete for 2_R1_trimmed.fastq.gz\n",
      "Approx 95% complete for 2_R1_trimmed.fastq.gz\n"
     ]
    },
    {
     "name": "stdout",
     "output_type": "stream",
     "text": [
      "Analysis complete for 2_R1_trimmed.fastq.gz\n"
     ]
    },
    {
     "name": "stderr",
     "output_type": "stream",
     "text": [
      "Started analysis of 2_R2_trimmed.fastq.gz\n",
      "Approx 5% complete for 2_R2_trimmed.fastq.gz\n",
      "Approx 10% complete for 2_R2_trimmed.fastq.gz\n",
      "Approx 15% complete for 2_R2_trimmed.fastq.gz\n",
      "Approx 20% complete for 2_R2_trimmed.fastq.gz\n",
      "Approx 25% complete for 2_R2_trimmed.fastq.gz\n",
      "Approx 30% complete for 2_R2_trimmed.fastq.gz\n",
      "Approx 35% complete for 2_R2_trimmed.fastq.gz\n",
      "Approx 40% complete for 2_R2_trimmed.fastq.gz\n",
      "Approx 45% complete for 2_R2_trimmed.fastq.gz\n",
      "Approx 50% complete for 2_R2_trimmed.fastq.gz\n",
      "Approx 55% complete for 2_R2_trimmed.fastq.gz\n",
      "Approx 60% complete for 2_R2_trimmed.fastq.gz\n",
      "Approx 65% complete for 2_R2_trimmed.fastq.gz\n",
      "Approx 70% complete for 2_R2_trimmed.fastq.gz\n",
      "Approx 75% complete for 2_R2_trimmed.fastq.gz\n",
      "Approx 80% complete for 2_R2_trimmed.fastq.gz\n",
      "Approx 85% complete for 2_R2_trimmed.fastq.gz\n",
      "Approx 90% complete for 2_R2_trimmed.fastq.gz\n",
      "Approx 95% complete for 2_R2_trimmed.fastq.gz\n"
     ]
    },
    {
     "name": "stdout",
     "output_type": "stream",
     "text": [
      "Analysis complete for 2_R2_trimmed.fastq.gz\n",
      "✓ FastQC report generated for 2\n",
      "\n",
      "Processing sample 3...\n"
     ]
    },
    {
     "name": "stderr",
     "output_type": "stream",
     "text": [
      "python(62472) MallocStackLogging: can't turn off malloc stack logging because it was not enabled.\n"
     ]
    },
    {
     "name": "stdout",
     "output_type": "stream",
     "text": [
      "application/gzip\n",
      "application/gzip\n"
     ]
    },
    {
     "name": "stderr",
     "output_type": "stream",
     "text": [
      "Started analysis of 3_R1_trimmed.fastq.gz\n",
      "Approx 5% complete for 3_R1_trimmed.fastq.gz\n",
      "Approx 10% complete for 3_R1_trimmed.fastq.gz\n",
      "Approx 15% complete for 3_R1_trimmed.fastq.gz\n",
      "Approx 20% complete for 3_R1_trimmed.fastq.gz\n",
      "Approx 25% complete for 3_R1_trimmed.fastq.gz\n",
      "Approx 30% complete for 3_R1_trimmed.fastq.gz\n",
      "Approx 35% complete for 3_R1_trimmed.fastq.gz\n",
      "Approx 40% complete for 3_R1_trimmed.fastq.gz\n",
      "Approx 45% complete for 3_R1_trimmed.fastq.gz\n",
      "Approx 50% complete for 3_R1_trimmed.fastq.gz\n",
      "Approx 55% complete for 3_R1_trimmed.fastq.gz\n",
      "Approx 60% complete for 3_R1_trimmed.fastq.gz\n",
      "Approx 65% complete for 3_R1_trimmed.fastq.gz\n",
      "Approx 70% complete for 3_R1_trimmed.fastq.gz\n",
      "Approx 75% complete for 3_R1_trimmed.fastq.gz\n",
      "Approx 80% complete for 3_R1_trimmed.fastq.gz\n",
      "Approx 85% complete for 3_R1_trimmed.fastq.gz\n",
      "Approx 90% complete for 3_R1_trimmed.fastq.gz\n",
      "Approx 95% complete for 3_R1_trimmed.fastq.gz\n"
     ]
    },
    {
     "name": "stdout",
     "output_type": "stream",
     "text": [
      "Analysis complete for 3_R1_trimmed.fastq.gz\n"
     ]
    },
    {
     "name": "stderr",
     "output_type": "stream",
     "text": [
      "Started analysis of 3_R2_trimmed.fastq.gz\n",
      "Approx 5% complete for 3_R2_trimmed.fastq.gz\n",
      "Approx 10% complete for 3_R2_trimmed.fastq.gz\n",
      "Approx 15% complete for 3_R2_trimmed.fastq.gz\n",
      "Approx 20% complete for 3_R2_trimmed.fastq.gz\n",
      "Approx 25% complete for 3_R2_trimmed.fastq.gz\n",
      "Approx 30% complete for 3_R2_trimmed.fastq.gz\n",
      "Approx 35% complete for 3_R2_trimmed.fastq.gz\n",
      "Approx 40% complete for 3_R2_trimmed.fastq.gz\n",
      "Approx 45% complete for 3_R2_trimmed.fastq.gz\n",
      "Approx 50% complete for 3_R2_trimmed.fastq.gz\n",
      "Approx 55% complete for 3_R2_trimmed.fastq.gz\n",
      "Approx 60% complete for 3_R2_trimmed.fastq.gz\n",
      "Approx 65% complete for 3_R2_trimmed.fastq.gz\n",
      "Approx 70% complete for 3_R2_trimmed.fastq.gz\n",
      "Approx 75% complete for 3_R2_trimmed.fastq.gz\n",
      "Approx 80% complete for 3_R2_trimmed.fastq.gz\n",
      "Approx 85% complete for 3_R2_trimmed.fastq.gz\n",
      "Approx 90% complete for 3_R2_trimmed.fastq.gz\n",
      "Approx 95% complete for 3_R2_trimmed.fastq.gz\n"
     ]
    },
    {
     "name": "stdout",
     "output_type": "stream",
     "text": [
      "Analysis complete for 3_R2_trimmed.fastq.gz\n",
      "✓ FastQC report generated for 3\n",
      "\n",
      "Processing sample 4...\n"
     ]
    },
    {
     "name": "stderr",
     "output_type": "stream",
     "text": [
      "python(62601) MallocStackLogging: can't turn off malloc stack logging because it was not enabled.\n"
     ]
    },
    {
     "name": "stdout",
     "output_type": "stream",
     "text": [
      "application/gzip\n",
      "application/gzip\n"
     ]
    },
    {
     "name": "stderr",
     "output_type": "stream",
     "text": [
      "Started analysis of 4_R1_trimmed.fastq.gz\n",
      "Approx 5% complete for 4_R1_trimmed.fastq.gz\n",
      "Approx 10% complete for 4_R1_trimmed.fastq.gz\n",
      "Approx 15% complete for 4_R1_trimmed.fastq.gz\n",
      "Approx 20% complete for 4_R1_trimmed.fastq.gz\n",
      "Approx 25% complete for 4_R1_trimmed.fastq.gz\n",
      "Approx 30% complete for 4_R1_trimmed.fastq.gz\n",
      "Approx 35% complete for 4_R1_trimmed.fastq.gz\n",
      "Approx 40% complete for 4_R1_trimmed.fastq.gz\n",
      "Approx 45% complete for 4_R1_trimmed.fastq.gz\n",
      "Approx 50% complete for 4_R1_trimmed.fastq.gz\n",
      "Approx 55% complete for 4_R1_trimmed.fastq.gz\n",
      "Approx 60% complete for 4_R1_trimmed.fastq.gz\n",
      "Approx 65% complete for 4_R1_trimmed.fastq.gz\n",
      "Approx 70% complete for 4_R1_trimmed.fastq.gz\n",
      "Approx 75% complete for 4_R1_trimmed.fastq.gz\n",
      "Approx 80% complete for 4_R1_trimmed.fastq.gz\n",
      "Approx 85% complete for 4_R1_trimmed.fastq.gz\n",
      "Approx 90% complete for 4_R1_trimmed.fastq.gz\n",
      "Approx 95% complete for 4_R1_trimmed.fastq.gz\n"
     ]
    },
    {
     "name": "stdout",
     "output_type": "stream",
     "text": [
      "Analysis complete for 4_R1_trimmed.fastq.gz\n"
     ]
    },
    {
     "name": "stderr",
     "output_type": "stream",
     "text": [
      "Started analysis of 4_R2_trimmed.fastq.gz\n",
      "Approx 5% complete for 4_R2_trimmed.fastq.gz\n",
      "Approx 10% complete for 4_R2_trimmed.fastq.gz\n",
      "Approx 15% complete for 4_R2_trimmed.fastq.gz\n",
      "Approx 20% complete for 4_R2_trimmed.fastq.gz\n",
      "Approx 25% complete for 4_R2_trimmed.fastq.gz\n",
      "Approx 30% complete for 4_R2_trimmed.fastq.gz\n",
      "Approx 35% complete for 4_R2_trimmed.fastq.gz\n",
      "Approx 40% complete for 4_R2_trimmed.fastq.gz\n",
      "Approx 45% complete for 4_R2_trimmed.fastq.gz\n",
      "Approx 50% complete for 4_R2_trimmed.fastq.gz\n",
      "Approx 55% complete for 4_R2_trimmed.fastq.gz\n",
      "Approx 60% complete for 4_R2_trimmed.fastq.gz\n",
      "Approx 65% complete for 4_R2_trimmed.fastq.gz\n",
      "Approx 70% complete for 4_R2_trimmed.fastq.gz\n",
      "Approx 75% complete for 4_R2_trimmed.fastq.gz\n",
      "Approx 80% complete for 4_R2_trimmed.fastq.gz\n",
      "Approx 85% complete for 4_R2_trimmed.fastq.gz\n",
      "Approx 90% complete for 4_R2_trimmed.fastq.gz\n",
      "Approx 95% complete for 4_R2_trimmed.fastq.gz\n"
     ]
    },
    {
     "name": "stdout",
     "output_type": "stream",
     "text": [
      "Analysis complete for 4_R2_trimmed.fastq.gz\n",
      "✓ FastQC report generated for 4\n",
      "\n",
      "Processing sample 5...\n"
     ]
    },
    {
     "name": "stderr",
     "output_type": "stream",
     "text": [
      "python(62732) MallocStackLogging: can't turn off malloc stack logging because it was not enabled.\n"
     ]
    },
    {
     "name": "stdout",
     "output_type": "stream",
     "text": [
      "application/gzip\n",
      "application/gzip\n"
     ]
    },
    {
     "name": "stderr",
     "output_type": "stream",
     "text": [
      "Started analysis of 5_R1_trimmed.fastq.gz\n",
      "Approx 5% complete for 5_R1_trimmed.fastq.gz\n",
      "Approx 10% complete for 5_R1_trimmed.fastq.gz\n",
      "Approx 15% complete for 5_R1_trimmed.fastq.gz\n",
      "Approx 20% complete for 5_R1_trimmed.fastq.gz\n",
      "Approx 25% complete for 5_R1_trimmed.fastq.gz\n",
      "Approx 30% complete for 5_R1_trimmed.fastq.gz\n",
      "Approx 35% complete for 5_R1_trimmed.fastq.gz\n",
      "Approx 40% complete for 5_R1_trimmed.fastq.gz\n",
      "Approx 45% complete for 5_R1_trimmed.fastq.gz\n",
      "Approx 50% complete for 5_R1_trimmed.fastq.gz\n",
      "Approx 55% complete for 5_R1_trimmed.fastq.gz\n",
      "Approx 60% complete for 5_R1_trimmed.fastq.gz\n",
      "Approx 65% complete for 5_R1_trimmed.fastq.gz\n",
      "Approx 70% complete for 5_R1_trimmed.fastq.gz\n",
      "Approx 75% complete for 5_R1_trimmed.fastq.gz\n",
      "Approx 80% complete for 5_R1_trimmed.fastq.gz\n",
      "Approx 85% complete for 5_R1_trimmed.fastq.gz\n",
      "Approx 90% complete for 5_R1_trimmed.fastq.gz\n",
      "Approx 95% complete for 5_R1_trimmed.fastq.gz\n"
     ]
    },
    {
     "name": "stdout",
     "output_type": "stream",
     "text": [
      "Analysis complete for 5_R1_trimmed.fastq.gz\n"
     ]
    },
    {
     "name": "stderr",
     "output_type": "stream",
     "text": [
      "Started analysis of 5_R2_trimmed.fastq.gz\n",
      "Approx 5% complete for 5_R2_trimmed.fastq.gz\n",
      "Approx 10% complete for 5_R2_trimmed.fastq.gz\n",
      "Approx 15% complete for 5_R2_trimmed.fastq.gz\n",
      "Approx 20% complete for 5_R2_trimmed.fastq.gz\n",
      "Approx 25% complete for 5_R2_trimmed.fastq.gz\n",
      "Approx 30% complete for 5_R2_trimmed.fastq.gz\n",
      "Approx 35% complete for 5_R2_trimmed.fastq.gz\n",
      "Approx 40% complete for 5_R2_trimmed.fastq.gz\n",
      "Approx 45% complete for 5_R2_trimmed.fastq.gz\n",
      "Approx 50% complete for 5_R2_trimmed.fastq.gz\n",
      "Approx 55% complete for 5_R2_trimmed.fastq.gz\n",
      "Approx 60% complete for 5_R2_trimmed.fastq.gz\n",
      "Approx 65% complete for 5_R2_trimmed.fastq.gz\n",
      "Approx 70% complete for 5_R2_trimmed.fastq.gz\n",
      "Approx 75% complete for 5_R2_trimmed.fastq.gz\n",
      "Approx 80% complete for 5_R2_trimmed.fastq.gz\n",
      "Approx 85% complete for 5_R2_trimmed.fastq.gz\n",
      "Approx 90% complete for 5_R2_trimmed.fastq.gz\n",
      "Approx 95% complete for 5_R2_trimmed.fastq.gz\n"
     ]
    },
    {
     "name": "stdout",
     "output_type": "stream",
     "text": [
      "Analysis complete for 5_R2_trimmed.fastq.gz\n",
      "✓ FastQC report generated for 5\n",
      "\n",
      "FastQC reports are available in the 01_fastqc directory\n"
     ]
    }
   ],
   "source": [
    "# Run FastQC on trimmed files\n",
    "print(\"Running FastQC on trimmed files...\")\n",
    "for r1_file in r1_files:\n",
    "    sample_name = os.path.basename(r1_file).replace('_R1_001.fastq.gz', '')\n",
    "    trimmed_r1 = os.path.join(output_dirs['trimmed'], f'{sample_name}_R1_trimmed.fastq.gz')\n",
    "    trimmed_r2 = os.path.join(output_dirs['trimmed'], f'{sample_name}_R2_trimmed.fastq.gz')\n",
    "    \n",
    "    if os.path.exists(trimmed_r1) and os.path.exists(trimmed_r2):\n",
    "        print(f\"\\nProcessing sample {sample_name}...\")\n",
    "        # Run FastQC\n",
    "        cmd = ['fastqc', '-o', output_dirs['trimmed'], trimmed_r1, trimmed_r2]\n",
    "        subprocess.run(cmd, check=True)\n",
    "        print(f\"✓ FastQC report generated for {sample_name}\")\n",
    "    else:\n",
    "        print(f\"✗ Files not found for sample {sample_name}\")\n",
    "\n",
    "print(\"\\nFastQC reports are available in the 02_trimmed directory\")"
   ]
  },
  {
   "cell_type": "code",
   "execution_count": 6,
   "id": "e6769c34",
   "metadata": {},
   "outputs": [],
   "source": [
    "# Create STAR index\n",
    "index_dir = os.path.join(genome_dir, 'star_index')\n",
    "os.makedirs(index_dir, exist_ok=True)\n"
   ]
  },
  {
   "cell_type": "code",
   "execution_count": 14,
   "id": "2a2b7941",
   "metadata": {},
   "outputs": [
    {
     "name": "stdout",
     "output_type": "stream",
     "text": [
      "Creating STAR index...\n",
      "STAR index created successfully\n"
     ]
    }
   ],
   "source": [
    "\n",
    "print(\"Creating STAR index...\")\n",
    "star_index_cmd = [\n",
    "    'STAR',\n",
    "    '--runMode', 'genomeGenerate',\n",
    "    '--genomeDir', index_dir,\n",
    "    '--genomeFastaFiles', os.path.join(genome_dir, 'genome.fa'),\n",
    "    '--sjdbGTFfile', os.path.join(genome_dir, 'genes.gtf'),\n",
    "    '--runThreadN', '4'\n",
    "]\n",
    "\n",
    "result = subprocess.run(star_index_cmd, capture_output=True, text=True)\n",
    "if result.returncode == 0:\n",
    "    print(\"STAR index created successfully\")\n",
    "else:\n",
    "    print(\"Error creating STAR index:\")\n",
    "    print(result.stderr)"
   ]
  },
  {
   "cell_type": "code",
   "execution_count": 15,
   "id": "31df7247",
   "metadata": {},
   "outputs": [
    {
     "name": "stdout",
     "output_type": "stream",
     "text": [
      "Mapping sample 1...\n"
     ]
    },
    {
     "name": "stderr",
     "output_type": "stream",
     "text": [
      "python(51956) MallocStackLogging: can't turn off malloc stack logging because it was not enabled.\n"
     ]
    },
    {
     "name": "stdout",
     "output_type": "stream",
     "text": [
      "Successfully mapped 1\n",
      "Mapping sample 2...\n"
     ]
    },
    {
     "name": "stderr",
     "output_type": "stream",
     "text": [
      "python(52037) MallocStackLogging: can't turn off malloc stack logging because it was not enabled.\n"
     ]
    },
    {
     "name": "stdout",
     "output_type": "stream",
     "text": [
      "Successfully mapped 2\n",
      "Mapping sample 3...\n"
     ]
    },
    {
     "name": "stderr",
     "output_type": "stream",
     "text": [
      "python(52137) MallocStackLogging: can't turn off malloc stack logging because it was not enabled.\n"
     ]
    },
    {
     "name": "stdout",
     "output_type": "stream",
     "text": [
      "Successfully mapped 3\n",
      "Mapping sample 4...\n"
     ]
    },
    {
     "name": "stderr",
     "output_type": "stream",
     "text": [
      "python(52377) MallocStackLogging: can't turn off malloc stack logging because it was not enabled.\n"
     ]
    },
    {
     "name": "stdout",
     "output_type": "stream",
     "text": [
      "Successfully mapped 4\n",
      "Mapping sample 5...\n"
     ]
    },
    {
     "name": "stderr",
     "output_type": "stream",
     "text": [
      "python(52509) MallocStackLogging: can't turn off malloc stack logging because it was not enabled.\n"
     ]
    },
    {
     "name": "stdout",
     "output_type": "stream",
     "text": [
      "Successfully mapped 5\n"
     ]
    }
   ],
   "source": [
    "# Map trimmed reads to the genome\n",
    "for r1_file in r1_files:\n",
    "    sample_name = os.path.basename(r1_file).replace('_R1_001.fastq.gz', '')\n",
    "    \n",
    "    # Define input and output files\n",
    "    trimmed_r1 = os.path.join(output_dirs['trimmed'], f'{sample_name}_R1_trimmed.fastq.gz')\n",
    "    trimmed_r2 = os.path.join(output_dirs['trimmed'], f'{sample_name}_R2_trimmed.fastq.gz')\n",
    "    out_dir = os.path.join(output_dirs['star'], sample_name)\n",
    "    os.makedirs(out_dir, exist_ok=True)\n",
    "    \n",
    "    print(f\"Mapping sample {sample_name}...\")\n",
    "    \n",
    "    # STAR mapping command\n",
    "    star_cmd = [\n",
    "        'STAR',\n",
    "        '--genomeDir', index_dir,\n",
    "        '--readFilesIn', trimmed_r1, trimmed_r2,\n",
    "        '--readFilesCommand', 'zcat',  # For reading gzipped files\n",
    "        '--outFileNamePrefix', os.path.join(out_dir, f'{sample_name}_'),\n",
    "        '--outSAMtype', 'BAM', 'SortedByCoordinate',\n",
    "        '--runThreadN', '4',\n",
    "        '--outBAMsortingThreadN', '4'\n",
    "    ]\n",
    "    \n",
    "    # Run STAR\n",
    "    result = subprocess.run(star_cmd, capture_output=True, text=True)\n",
    "    \n",
    "    if result.returncode == 0:\n",
    "        print(f\"Successfully mapped {sample_name}\")\n",
    "    else:\n",
    "        print(f\"Error mapping {sample_name}:\")\n",
    "        print(result.stderr)"
   ]
  },
  {
   "cell_type": "code",
   "execution_count": null,
   "id": "d2dcc3c7",
   "metadata": {},
   "outputs": [
    {
     "name": "stdout",
     "output_type": "stream",
     "text": [
      "\n",
      "Processing sample 1...\n"
     ]
    }
   ],
   "source": [
    "# Process each sample with STAR\n",
    "import shutil  # Add this import at the top of your notebook\n",
    "\n",
    "for r1_file in r1_files:\n",
    "    sample_name = os.path.basename(r1_file).replace('_R1_001.fastq.gz', '')\n",
    "    r2_file = r1_file.replace('_R1_001.fastq.gz', '_R2_001.fastq.gz')\n",
    "    \n",
    "    # Define input and output files\n",
    "    trimmed_r1 = os.path.join(output_dirs['trimmed'], f'{sample_name}_R1_trimmed.fastq.gz')\n",
    "    trimmed_r2 = os.path.join(output_dirs['trimmed'], f'{sample_name}_R2_trimmed.fastq.gz')\n",
    "    out_dir = os.path.join(output_dirs['star'], sample_name)\n",
    "    os.makedirs(out_dir, exist_ok=True)\n",
    "    \n",
    "    # Create temporary directory in Linux filesystem\n",
    "    tmp_dir = os.path.expanduser(f'~/tmp_star/{sample_name}_tmp')\n",
    "    \n",
    "    print(f\"\\nProcessing sample {sample_name}...\")\n",
    "    \n",
    "    # STAR alignment command\n",
    "    star_cmd = [\n",
    "        'STAR',\n",
    "        '--genomeDir', index_dir,\n",
    "        '--readFilesIn', trimmed_r1, trimmed_r2,\n",
    "        '--readFilesCommand', 'zcat',\n",
    "        '--outFileNamePrefix', os.path.join(out_dir, f'{sample_name}_'),\n",
    "        '--outTmpDir', tmp_dir,\n",
    "        '--outSAMtype', 'BAM', 'SortedByCoordinate',\n",
    "        '--runThreadN', '2',  # Reduced threads\n",
    "        '--genomeSAindexNbases', '12',  # Reduced from default 14\n",
    "        '--outFilterMultimapNmax', '10',  # Reduced from 20\n",
    "        '--outFilterMismatchNmax', '999',\n",
    "        '--outFilterMismatchNoverReadLmax', '0.04',\n",
    "        '--alignIntronMin', '20',\n",
    "        '--alignIntronMax', '1000000',\n",
    "        '--alignMatesGapMax', '1000000',\n",
    "        '--alignSJoverhangMin', '8',\n",
    "        '--alignSJDBoverhangMin', '1',\n",
    "        '--outFilterType', 'BySJout',\n",
    "        '--genomeLoad', 'LoadAndKeep',  # Keep genome in memory between runs\n",
    "        '--limitBAMsortRAM', '2000000000',  # 2GB for BAM sorting\n",
    "        '--limitGenomeGenerateRAM', '7000000000',  # Limit to 7GB RAM\n",
    "    ]\n",
    "    \n",
    "    # Run STAR\n",
    "    result = subprocess.run(star_cmd, stdout=subprocess.PIPE, stderr=subprocess.PIPE, text=True)\n",
    "    \n",
    "    if result.returncode == 0:\n",
    "        print(f\"✓ Successfully processed {sample_name}\")\n",
    "    else:\n",
    "        print(f\"✗ Error processing {sample_name}\")\n",
    "        print(result.stderr)\n",
    "\n",
    "# Clean up temp directory after successful run\n",
    "subprocess.run([\"rm\", \"-rf\", os.path.expanduser(\"~/tmp_star/*\")])\n",
    "\n",
    "print(\"\\nSTAR alignment and counting complete!\")"
   ]
  },
  {
   "cell_type": "code",
   "execution_count": null,
   "id": "356c4c52-b96d-4f3b-82ed-7e36d9d40f6e",
   "metadata": {},
   "outputs": [],
   "source": []
  }
 ],
 "metadata": {
  "kernelspec": {
   "display_name": ".venv",
   "language": "python",
   "name": "python3"
  },
  "language_info": {
   "codemirror_mode": {
    "name": "ipython",
    "version": 3
   },
   "file_extension": ".py",
   "mimetype": "text/x-python",
   "name": "python",
   "nbconvert_exporter": "python",
   "pygments_lexer": "ipython3",
   "version": "3.12.3"
  }
 },
 "nbformat": 4,
 "nbformat_minor": 5
}
